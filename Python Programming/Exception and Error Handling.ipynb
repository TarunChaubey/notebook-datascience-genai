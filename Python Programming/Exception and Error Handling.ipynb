{
 "cells": [
  {
   "cell_type": "code",
   "execution_count": 3,
   "id": "3fe6e645",
   "metadata": {},
   "outputs": [],
   "source": [
    "import numpy as np\n",
    "import pandas as pd"
   ]
  },
  {
   "cell_type": "code",
   "execution_count": 19,
   "id": "4ca8d5a3",
   "metadata": {},
   "outputs": [
    {
     "ename": "TypeError",
     "evalue": "image should be in np.ndarray",
     "output_type": "error",
     "traceback": [
      "\u001b[1;31m---------------------------------------------------------------------------\u001b[0m",
      "\u001b[1;31mTypeError\u001b[0m                                 Traceback (most recent call last)",
      "Cell \u001b[1;32mIn[19], line 6\u001b[0m\n\u001b[0;32m      4\u001b[0m     \u001b[38;5;28;01mpass\u001b[39;00m\n\u001b[0;32m      5\u001b[0m \u001b[38;5;28;01melse\u001b[39;00m:\n\u001b[1;32m----> 6\u001b[0m     \u001b[38;5;28;01mraise\u001b[39;00m \u001b[38;5;167;01mTypeError\u001b[39;00m(\u001b[38;5;124m\"\u001b[39m\u001b[38;5;124mimage should be in np.ndarray\u001b[39m\u001b[38;5;124m\"\u001b[39m)\n",
      "\u001b[1;31mTypeError\u001b[0m: image should be in np.ndarray"
     ]
    }
   ],
   "source": [
    "# arr = np.random.randint(0, 10, 4)\n",
    "arr = [1,3,4]\n",
    "if isinstance(arr, np.ndarray):\n",
    "    pass\n",
    "else:\n",
    "    raise TypeError(\"image should be in np.ndarray\")"
   ]
  },
  {
   "cell_type": "code",
   "execution_count": 20,
   "id": "e3b31edb",
   "metadata": {},
   "outputs": [
    {
     "name": "stdout",
     "output_type": "stream",
     "text": [
      "SyntaxError: invalid syntax (<string>, line 1)\n"
     ]
    }
   ],
   "source": [
    "# SyntaxError demo\n",
    "try:\n",
    "    eval(\"x = 1 2\")\n",
    "except SyntaxError as e:\n",
    "    print(\"SyntaxError:\", e)"
   ]
  },
  {
   "cell_type": "code",
   "execution_count": 21,
   "id": "fd070350",
   "metadata": {},
   "outputs": [
    {
     "name": "stdout",
     "output_type": "stream",
     "text": [
      "TypeError: unsupported operand type(s) for +: 'int' and 'str'\n"
     ]
    }
   ],
   "source": [
    "# TypeError demo\n",
    "try:\n",
    "    print(5 + \"10\")\n",
    "except TypeError as e:\n",
    "    print(\"TypeError:\", e)"
   ]
  },
  {
   "cell_type": "code",
   "execution_count": 22,
   "id": "1d2e77d4",
   "metadata": {},
   "outputs": [
    {
     "name": "stdout",
     "output_type": "stream",
     "text": [
      "ValueError: invalid literal for int() with base 10: 'abc'\n"
     ]
    }
   ],
   "source": [
    "# ValueError demo\n",
    "try:\n",
    "    int(\"abc\")\n",
    "except ValueError as e:\n",
    "    print(\"ValueError:\", e)"
   ]
  },
  {
   "cell_type": "code",
   "execution_count": 23,
   "id": "1345cb28",
   "metadata": {},
   "outputs": [
    {
     "name": "stdout",
     "output_type": "stream",
     "text": [
      "ZeroDivisionError: division by zero\n"
     ]
    }
   ],
   "source": [
    "# ZeroDivisionError demo\n",
    "try:\n",
    "    result = 10 / 0\n",
    "except ZeroDivisionError as e:\n",
    "    print(\"ZeroDivisionError:\", e)"
   ]
  },
  {
   "cell_type": "code",
   "execution_count": 24,
   "id": "0ada545e",
   "metadata": {},
   "outputs": [
    {
     "name": "stdout",
     "output_type": "stream",
     "text": [
      "IndexError: list index out of range\n"
     ]
    }
   ],
   "source": [
    "# IndexError demo\n",
    "try:\n",
    "    my_list = [1, 2, 3]\n",
    "    print(my_list[3])\n",
    "except IndexError as e:\n",
    "    print(\"IndexError:\", e)"
   ]
  },
  {
   "cell_type": "code",
   "execution_count": 28,
   "id": "ba47e7ef",
   "metadata": {},
   "outputs": [
    {
     "name": "stdout",
     "output_type": "stream",
     "text": [
      "[Errno 2] No such file or directory: 'nonexistent_file.txt'\n"
     ]
    }
   ],
   "source": [
    "# FileNotFoundError demo\n",
    "try:\n",
    "    with open(\"nonexistent_file.txt\", \"r\") as file:\n",
    "        content = file.read()\n",
    "except FileNotFoundError as e:\n",
    "    print(e)\n",
    "#     print(\"FileNotFoundError:\", e)"
   ]
  },
  {
   "cell_type": "code",
   "execution_count": 30,
   "id": "a1a7ffaa",
   "metadata": {},
   "outputs": [
    {
     "name": "stdout",
     "output_type": "stream",
     "text": [
      "Assertion Error: Discount should be between 0 and 1\n"
     ]
    }
   ],
   "source": [
    "def calculate_discount(price, discount):\n",
    "    assert 0 <= discount <= 1, \"Discount should be between 0 and 1\"\n",
    "    return price - (price * discount)\n",
    "\n",
    "try:\n",
    "    discounted_price = calculate_discount(100, 1.5)\n",
    "    print(\"Discounted price:\", discounted_price)\n",
    "except AssertionError as e:\n",
    "    print(\"Assertion Error:\", e)"
   ]
  },
  {
   "cell_type": "code",
   "execution_count": 32,
   "id": "8f72c768",
   "metadata": {},
   "outputs": [
    {
     "name": "stdout",
     "output_type": "stream",
     "text": [
      "Enter your age: -10\n",
      "Invalid input: Age cannot be negative\n"
     ]
    }
   ],
   "source": [
    "def validate_age(age):\n",
    "    if age < 0:\n",
    "        raise ValueError(\"Age cannot be negative\")\n",
    "    return age\n",
    "\n",
    "try:\n",
    "    age = int(input(\"Enter your age: \"))\n",
    "    validated_age = validate_age(age)\n",
    "    print(\"Validated age:\", validated_age)\n",
    "except ValueError as e:\n",
    "    print(\"Invalid input:\", e)"
   ]
  },
  {
   "cell_type": "code",
   "execution_count": 33,
   "id": "426ef99f",
   "metadata": {},
   "outputs": [
    {
     "name": "stdout",
     "output_type": "stream",
     "text": [
      "File not found!\n"
     ]
    },
    {
     "ename": "NameError",
     "evalue": "name 'file' is not defined",
     "output_type": "error",
     "traceback": [
      "\u001b[1;31m---------------------------------------------------------------------------\u001b[0m",
      "\u001b[1;31mNameError\u001b[0m                                 Traceback (most recent call last)",
      "Cell \u001b[1;32mIn[33], line 7\u001b[0m\n\u001b[0;32m      5\u001b[0m     \u001b[38;5;28mprint\u001b[39m(\u001b[38;5;124m\"\u001b[39m\u001b[38;5;124mFile not found!\u001b[39m\u001b[38;5;124m\"\u001b[39m)\n\u001b[0;32m      6\u001b[0m \u001b[38;5;28;01mfinally\u001b[39;00m:\n\u001b[1;32m----> 7\u001b[0m     file\u001b[38;5;241m.\u001b[39mclose()\n",
      "\u001b[1;31mNameError\u001b[0m: name 'file' is not defined"
     ]
    }
   ],
   "source": [
    "try:\n",
    "    file = open(\"example.txt\", \"r\")\n",
    "    # Perform file operations\n",
    "except FileNotFoundError:\n",
    "    print(\"File not found!\")\n",
    "finally:\n",
    "    file.close()"
   ]
  },
  {
   "cell_type": "code",
   "execution_count": 34,
   "id": "d65ccac5",
   "metadata": {},
   "outputs": [
    {
     "name": "stdout",
     "output_type": "stream",
     "text": [
      "Enter a number: 0\n",
      "Cannot divide by zero!\n"
     ]
    }
   ],
   "source": [
    "try:\n",
    "    x = int(input(\"Enter a number: \"))\n",
    "    y = 10 / x\n",
    "except ValueError:\n",
    "    print(\"Invalid input! Please enter a number.\")\n",
    "except ZeroDivisionError:\n",
    "    print(\"Cannot divide by zero!\")\n",
    "else:\n",
    "    print(\"Result:\", y)\n"
   ]
  },
  {
   "cell_type": "code",
   "execution_count": 35,
   "id": "606df809",
   "metadata": {},
   "outputs": [
    {
     "name": "stdout",
     "output_type": "stream",
     "text": [
      "Cannot divide by zero!\n"
     ]
    }
   ],
   "source": [
    "try:\n",
    "    # Code that may raise an exception\n",
    "    x = 10 / 0\n",
    "except ZeroDivisionError:\n",
    "    # Handling specific exception\n",
    "    print(\"Cannot divide by zero!\")\n",
    "except Exception as e:\n",
    "    # Handling all other exceptions\n",
    "    print(\"An error occurred:\", e)"
   ]
  },
  {
   "cell_type": "code",
   "execution_count": null,
   "id": "cc9b05cf",
   "metadata": {},
   "outputs": [],
   "source": []
  }
 ],
 "metadata": {
  "kernelspec": {
   "display_name": "Python 3 (ipykernel)",
   "language": "python",
   "name": "python3"
  },
  "language_info": {
   "codemirror_mode": {
    "name": "ipython",
    "version": 3
   },
   "file_extension": ".py",
   "mimetype": "text/x-python",
   "name": "python",
   "nbconvert_exporter": "python",
   "pygments_lexer": "ipython3",
   "version": "3.11.5"
  }
 },
 "nbformat": 4,
 "nbformat_minor": 5
}
