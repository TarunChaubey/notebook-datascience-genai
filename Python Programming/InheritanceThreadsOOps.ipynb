{
 "cells": [
  {
   "cell_type": "code",
   "execution_count": 63,
   "id": "0ee9bb34",
   "metadata": {},
   "outputs": [],
   "source": [
    "from threading import current_thread, Lock, RLock, Thread\n",
    "from time import perf_counter, sleep"
   ]
  },
  {
   "cell_type": "code",
   "execution_count": 61,
   "id": "8b07628e",
   "metadata": {},
   "outputs": [],
   "source": [
    "class A:\n",
    "    def __init__(self):\n",
    "        print(\"I am in {}\".format(current_thread().name))\n",
    "        \n",
    "    def GetSquare(self, num):\n",
    "        return num * num\n",
    "        \n",
    "        \n",
    "class B:\n",
    "    def __init__(self):\n",
    "        print(\"I am in {}\".format(current_thread().name))\n",
    "\n",
    "        \n",
    "class Main(A):\n",
    "    def __init__(self, num):\n",
    "        self.num = num\n",
    "        super().__init__()  # Corrected super() call\n",
    "        print(\"Squre : \", self.GetSquare(num))  # Corrected method call to GetSquare"
   ]
  },
  {
   "cell_type": "code",
   "execution_count": 62,
   "id": "d0c98623",
   "metadata": {},
   "outputs": [
    {
     "name": "stdout",
     "output_type": "stream",
     "text": [
      "I am in T10\n",
      "Squre :  100\n",
      "I am in T11\n",
      "Squre :  121\n",
      "I am in T12\n",
      "Squre :  144\n",
      "I am in T13\n",
      "Squre :  169\n"
     ]
    }
   ],
   "source": [
    "threads = []\n",
    "\n",
    "for i in range(10,14):\n",
    "    threads.append(Thread(target=Main, args=(i,), name=f\"T{i}\"))\n",
    "\n",
    "for thred in threads:\n",
    "    thred.start()"
   ]
  },
  {
   "cell_type": "code",
   "execution_count": 29,
   "id": "1d4d106c",
   "metadata": {},
   "outputs": [
    {
     "name": "stdout",
     "output_type": "stream",
     "text": [
      "<Thread(T0, initial)>\n",
      "<Thread(T1, initial)>\n",
      "<Thread(T2, initial)>\n",
      "<Thread(T3, initial)>\n"
     ]
    }
   ],
   "source": []
  },
  {
   "cell_type": "code",
   "execution_count": 38,
   "id": "34d64e38",
   "metadata": {},
   "outputs": [],
   "source": [
    "import numpy as np"
   ]
  },
  {
   "cell_type": "code",
   "execution_count": 52,
   "id": "40fcae85",
   "metadata": {},
   "outputs": [
    {
     "data": {
      "text/plain": [
       "80.413"
      ]
     },
     "execution_count": 52,
     "metadata": {},
     "output_type": "execute_result"
    }
   ],
   "source": [
    "count = 1000\n",
    "sum(np.random.randint(76,86,count))/count"
   ]
  },
  {
   "cell_type": "code",
   "execution_count": null,
   "id": "d91e578b",
   "metadata": {},
   "outputs": [],
   "source": []
  }
 ],
 "metadata": {
  "kernelspec": {
   "display_name": "Python 3 (ipykernel)",
   "language": "python",
   "name": "python3"
  },
  "language_info": {
   "codemirror_mode": {
    "name": "ipython",
    "version": 3
   },
   "file_extension": ".py",
   "mimetype": "text/x-python",
   "name": "python",
   "nbconvert_exporter": "python",
   "pygments_lexer": "ipython3",
   "version": "3.8.18"
  }
 },
 "nbformat": 4,
 "nbformat_minor": 5
}
