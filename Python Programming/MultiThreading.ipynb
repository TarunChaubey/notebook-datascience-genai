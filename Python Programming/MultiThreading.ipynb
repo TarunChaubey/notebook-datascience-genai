{
 "cells": [
  {
   "cell_type": "code",
   "execution_count": 143,
   "metadata": {},
   "outputs": [],
   "source": [
    "from time import perf_counter\n",
    "import threading\n",
    "from threading import current_thread, Thread"
   ]
  },
  {
   "cell_type": "code",
   "execution_count": 144,
   "metadata": {},
   "outputs": [],
   "source": [
    "def Squre(num: float):\n",
    "    return float(num)* float(num)\n",
    "\n",
    "def Cube(num: float):\n",
    "    return float(num) * float(num) * float(num)"
   ]
  },
  {
   "cell_type": "code",
   "execution_count": 145,
   "metadata": {},
   "outputs": [
    {
     "name": "stdout",
     "output_type": "stream",
     "text": [
      "0.17202339999494143\n"
     ]
    }
   ],
   "source": [
    "st = perf_counter()\n",
    "[Squre(num) for num in range(100000)]\n",
    "[Cube(num) for num in range(100000)]\n",
    "print(perf_counter()-st)\n"
   ]
  },
  {
   "cell_type": "code",
   "execution_count": 146,
   "metadata": {},
   "outputs": [],
   "source": [
    "async def calculate_squares(num_range, res_squre):\n",
    "    res_squre.extend([Squre(num) for num in range(num_range)])\n",
    "\n",
    "async def calculate_cube(num_range, res_cube):\n",
    "    res_cube.extend([Cube(num) for num in range(num_range)])"
   ]
  },
  {
   "cell_type": "code",
   "execution_count": 147,
   "metadata": {},
   "outputs": [],
   "source": [
    "res_cube = []\n",
    "res_squre = []"
   ]
  },
  {
   "cell_type": "code",
   "execution_count": 148,
   "metadata": {},
   "outputs": [
    {
     "name": "stdout",
     "output_type": "stream",
     "text": [
      "0.051572399999713525\n"
     ]
    },
    {
     "name": "stderr",
     "output_type": "stream",
     "text": [
      "C:\\Users\\TarunKumarChaubey\\anaconda3\\envs\\CVRnD\\lib\\threading.py:870: RuntimeWarning: coroutine 'calculate_squares' was never awaited\n",
      "  self._target(*self._args, **self._kwargs)\n",
      "RuntimeWarning: Enable tracemalloc to get the object allocation traceback\n",
      "C:\\Users\\TarunKumarChaubey\\anaconda3\\envs\\CVRnD\\lib\\threading.py:870: RuntimeWarning: coroutine 'calculate_cube' was never awaited\n",
      "  self._target(*self._args, **self._kwargs)\n",
      "RuntimeWarning: Enable tracemalloc to get the object allocation traceback\n"
     ]
    }
   ],
   "source": [
    "range_of_number = 10000\n",
    "st = perf_counter()\n",
    "squre_thread = threading.Thread(target=calculate_squares, args=(range_of_number, res_squre))\n",
    "cube_thread = threading.Thread(target=calculate_cube, args=(range_of_number, res_cube))\n",
    "squre_thread.start()\n",
    "cube_thread.start()\n",
    "squre_thread.join()\n",
    "cube_thread.join()\n",
    "print(perf_counter()-st)"
   ]
  },
  {
   "cell_type": "code",
   "execution_count": 149,
   "metadata": {},
   "outputs": [
    {
     "name": "stdout",
     "output_type": "stream",
     "text": [
      "0.0028008000226691365\n"
     ]
    }
   ],
   "source": [
    "async def calculate_squares(num_range, res_squre):\n",
    "    res_squre.extend([Squre(num) for num in range(num_range)])\n",
    "\n",
    "async def calculate_cube(num_range, res_cube):\n",
    "    res_cube.extend([Cube(num) for num in range(num_range)])\n",
    "\n",
    "    \n",
    "range_of_number = 10000\n",
    "st = perf_counter()\n",
    "squre_thread = threading.Thread(target=calculate_squares, args=(range_of_number, res_squre))\n",
    "cube_thread = threading.Thread(target=calculate_cube, args=(range_of_number, res_cube))\n",
    "squre_thread.start()\n",
    "cube_thread.start()\n",
    "squre_thread.join()\n",
    "cube_thread.join()\n",
    "print(perf_counter()-st)"
   ]
  },
  {
   "cell_type": "markdown",
   "metadata": {},
   "source": [
    "#### Race Condition "
   ]
  },
  {
   "cell_type": "markdown",
   "metadata": {},
   "source": [
    "What is Race Condition ?\n",
    "* It is a bug generated when you do multi-processing. It occurs because two or more threads tries to update the same variable and results into unreliable output. \n",
    "* Concurrent accesses to shared resource can lead to race condition."
   ]
  },
  {
   "cell_type": "markdown",
   "metadata": {},
   "source": [
    "Thread synchronization Technique : \n",
    "    * A common approach is to protect the critical section of code. (Prevent concurrent access.)"
   ]
  },
  {
   "cell_type": "code",
   "execution_count": 36,
   "metadata": {},
   "outputs": [],
   "source": [
    "class Bus:\n",
    "    \n",
    "    def __init__(self, available_seat):\n",
    "        self.available_seat = available_seat\n",
    "        \n",
    "    def BookSeat(self, seat_required_by_user):\n",
    "        if self.available_seat >= seat_required_by_user:\n",
    "            print(f\"{seat_required_by_user } Seat allocated to User {current_thread().name}\")\n",
    "            self.available_seat -= seat_required_by_user\n",
    "            \n",
    "        else:\n",
    "            print(\"All Seats are booked\")"
   ]
  },
  {
   "cell_type": "code",
   "execution_count": 43,
   "metadata": {},
   "outputs": [
    {
     "name": "stdout",
     "output_type": "stream",
     "text": [
      "All Seats are booked\n",
      "2 Seat allocated to User BT\n"
     ]
    }
   ],
   "source": [
    "bus = Bus(2)\n",
    "\n",
    "t1 = Thread(target=bus.BookSeat, args=(3,), name=\"AT\")\n",
    "t2 = Thread(target=bus.BookSeat, args=(2,), name=\"BT\")\n",
    "\n",
    "t1.start()\n",
    "t2.start()\n",
    "\n",
    "# t1.join()\n",
    "# t2.join()"
   ]
  },
  {
   "cell_type": "markdown",
   "metadata": {},
   "source": [
    "Thread synchronization Technique\n",
    "Thread synchronization is defined as a mechanism which ensures that two or more concurrent threads do not simultaneously\n",
    "execute some particular program segment known as critical section. \n",
    "\n",
    "We have following thread synchronization techniques.\n",
    "* Using Locks. \n",
    "* Using R-Lock \n",
    "* Using Semaphores. Full screer"
   ]
  },
  {
   "cell_type": "markdown",
   "metadata": {},
   "source": [
    "#### Using Locks"
   ]
  },
  {
   "cell_type": "markdown",
   "metadata": {},
   "source": [
    "##### Locks in Python\n",
    "Threading module provides a Lock class to deal with the race conditions. \n",
    "\n",
    "Lock has two states : acquire method \n",
    "* Locked : - The lock has been acquiredoge tate of code to lockad any thread that makes an attempt to a until it is released. \n",
    "* Unlocked : - The lock has not been a acquired by the next thread that makes an attempt"
   ]
  },
  {
   "cell_type": "markdown",
   "metadata": {},
   "source": [
    "Acquire lock using acquire()\n",
    "    - Syntax : mylock.acquire()\n",
    "    \n",
    "Release lock using release()\n",
    "    - Syntax : mylock.release()"
   ]
  },
  {
   "cell_type": "markdown",
   "metadata": {},
   "source": [
    "acquire() method \n",
    "* change the state of code to locked.\n",
    "* other threads have to wait until lock is released by current working thread. \n",
    "    - syntax : lock_object.acquire([blocking True], timeout=-1)"
   ]
  },
  {
   "cell_type": "code",
   "execution_count": 80,
   "metadata": {},
   "outputs": [],
   "source": [
    "from threading import Lock,current_thread\n",
    "from time import sleep"
   ]
  },
  {
   "cell_type": "code",
   "execution_count": 62,
   "metadata": {},
   "outputs": [],
   "source": [
    "mylock = Lock()"
   ]
  },
  {
   "cell_type": "code",
   "execution_count": 71,
   "metadata": {},
   "outputs": [
    {
     "name": "stdout",
     "output_type": "stream",
     "text": [
      "T1\n",
      "T1\n",
      "T1\n",
      "T1\n",
      "T1\n",
      "T2\n",
      "T2\n",
      "T2\n",
      "T2\n",
      "T2\n"
     ]
    }
   ],
   "source": [
    "# both thread called parallal\n",
    "\n",
    "def task(lock, text):\n",
    "    for ind in range(5):\n",
    "        print(text)\n",
    "    sleep(3)\n",
    "    \n",
    "t1 = Thread(target=task, args=(mylock,\"T1\"))\n",
    "t2 = Thread(target=task, args=(mylock,\"T2\"))\n",
    "\n",
    "t1.start()\n",
    "t2.start()"
   ]
  },
  {
   "cell_type": "code",
   "execution_count": null,
   "metadata": {},
   "outputs": [],
   "source": [
    "mylock.release()"
   ]
  },
  {
   "cell_type": "code",
   "execution_count": 87,
   "metadata": {},
   "outputs": [
    {
     "name": "stdout",
     "output_type": "stream",
     "text": [
      "Stared Working for T1\n",
      "T1\n",
      "T1\n",
      "T1\n",
      "T1\n",
      "T1\n",
      "Work Completed for T1\n",
      "Stared Working for T2\n",
      "T2\n",
      "T2\n",
      "T2\n",
      "T2\n",
      "T2\n",
      "Work Completed for T2\n"
     ]
    }
   ],
   "source": [
    "# adding lock method here\n",
    "\n",
    "# first T1 get completed then t2 start executing\n",
    "\n",
    "def task(lock, text):\n",
    "    lock.acquire()\n",
    "    print(\"Stared Working for {}\".format(current_thread().name))\n",
    "    for ind in range(5):\n",
    "        print(text)\n",
    "    sleep(5)\n",
    "    print(\"Work Completed for {}\".format(current_thread().name))\n",
    "    lock.release()\n",
    "    \n",
    "t1 = Thread(target=task, args=(mylock,\"T1\"), name='T1')\n",
    "t2 = Thread(target=task, args=(mylock,\"T2\"), name='T2')\n",
    "\n",
    "t1.start()\n",
    "t2.start()"
   ]
  },
  {
   "cell_type": "code",
   "execution_count": 49,
   "metadata": {},
   "outputs": [
    {
     "name": "stdout",
     "output_type": "stream",
     "text": [
      "Available seats are :  2\n",
      "1 are allocated to Jay\n",
      "Available seats are :  1\n",
      "1 are allocated to Raj\n"
     ]
    }
   ],
   "source": [
    "from threading import * \n",
    "\n",
    "class Bus : \n",
    "    def __init__(self, name, available_seats, lock): \n",
    "        self.available_seats = available_seats \n",
    "        self.name = name \n",
    "        self.lock = lock \n",
    "        \n",
    "    def reserve(self, need_seats):\n",
    "        self.lock.acquire() \n",
    "        print(\"Available seats are : \", self.available_seats)        \n",
    "        if self.available_seats >=need_seats:\n",
    "            nm=current_thread().name\n",
    "            print(f\"{ need_seats} are allocated to {nm}\")\n",
    "            self.available_seats -= need_seats\n",
    "        else:\n",
    "            print(\"Sorry! seats are not avaiable\")\n",
    "        self.lock.release()\n",
    "        \n",
    "b1=Bus (\"Mahalakshmi travels\",2,Lock()) \n",
    "t1=Thread(target=b1.reserve, args=(1,), name=\"Jay\")\n",
    "t2=Thread(target=b1.reserve,args=(1,), name=\"Raj\")\n",
    "\n",
    "t1.start()\n",
    "t2.start() "
   ]
  },
  {
   "cell_type": "markdown",
   "metadata": {},
   "source": [
    "#### RLock - Multithreading"
   ]
  },
  {
   "cell_type": "code",
   "execution_count": 7,
   "metadata": {},
   "outputs": [],
   "source": [
    "def Func1(st=4):\n",
    "    sleep(st)\n",
    "    print(\"Func1 Done\")\n",
    "    \n",
    "def Func2(st=4):\n",
    "    sleep(st)\n",
    "    print(\"Func1 Done\")"
   ]
  },
  {
   "cell_type": "markdown",
   "metadata": {},
   "source": [
    "RLocks in Python You cannot acquire multiple times using Lock mechanism.\n",
    "    - By using RLock you can acquire() multiple times. \n",
    "    - Rlock is just a modified version of Lock."
   ]
  },
  {
   "cell_type": "markdown",
   "metadata": {},
   "source": [
    "Acquire lock using acquire().\n",
    "\n",
    "    -Syntax : mylock.acquire()"
   ]
  },
  {
   "cell_type": "markdown",
   "metadata": {},
   "source": [
    "Release lock using release(). \n",
    "    - Lock Syntax : mylock.release()"
   ]
  },
  {
   "cell_type": "code",
   "execution_count": null,
   "metadata": {},
   "outputs": [],
   "source": []
  },
  {
   "cell_type": "code",
   "execution_count": 52,
   "metadata": {},
   "outputs": [
    {
     "name": "stdout",
     "output_type": "stream",
     "text": [
      "Available seats are :  3\n",
      "1 are allocated to Jay\n",
      "<locked _thread.RLock object owner=21528 count=1 at 0x000001DFABC91C60>\n"
     ]
    }
   ],
   "source": [
    "from threading import RLock\n",
    "# RLock used to mulitple time acquire and release\n",
    "# rlock keep track running thread detaila and acquire count details while lock not keep these details\n",
    "\n",
    "class Bus : \n",
    "    def __init__(self, name, available_seats, rlock): \n",
    "        self.available_seats = available_seats \n",
    "        self.name = name \n",
    "        self.rlock = rlock \n",
    "        \n",
    "    def reserve(self, need_seats):\n",
    "        self.rlock.acquire() \n",
    "        print(\"Available seats are : \", self.available_seats)        \n",
    "        if self.available_seats >=need_seats:\n",
    "            nm=current_thread().name\n",
    "            print(f\"{ need_seats} are allocated to {nm}\")\n",
    "            self.available_seats -= need_seats\n",
    "        else:\n",
    "            print(\"Sorry! seats are not avaiable\")\n",
    "        print(self.rlock)\n",
    "        self.rlock.acquire() \n",
    "        \n",
    "b1=Bus (\"Mahalakshmi travels\",3,RLock()) \n",
    "t1=Thread(target=b1.reserve, args=(1,), name=\"Jay\")\n",
    "t2=Thread(target=b1.reserve,args=(1,), name=\"Raj\")\n",
    "\n",
    "t1.start()\n",
    "t2.start() "
   ]
  },
  {
   "cell_type": "markdown",
   "metadata": {},
   "source": [
    "Lock Vs RLock\n",
    "\n",
    "Lock - From Main Function\n",
    "\n",
    "    main function - acquire lock\n",
    "    called get_first_line\n",
    "    get_first_line also ask for acquire lock \n",
    "    \n",
    "in this case program get on hold\n",
    "\n",
    "and RLock Run Program properly"
   ]
  },
  {
   "cell_type": "code",
   "execution_count": 59,
   "metadata": {},
   "outputs": [
    {
     "name": "stdout",
     "output_type": "stream",
     "text": [
      "Code for fetching first line\n",
      "Code for fetching second line\n"
     ]
    }
   ],
   "source": [
    "from threading import Lock, RLock\n",
    "from time import sleep\n",
    "l=RLock() # code work due to RLock allow multiple acquire and release\n",
    "# l=Lock() # code not work due to Lock not allow multiple acquire and release\n",
    "\n",
    "def get_first_line() :\n",
    "    l.acquire() \n",
    "    print(\"Code for fetching first line\")\n",
    "    l.release() \n",
    "\n",
    "def get_second_line(): \n",
    "    l.acquire() \n",
    "    print(\"Code for fetching second line\") \n",
    "    l.release() \n",
    "    \n",
    "def main():\n",
    "    l.acquire()\n",
    "    get_first_line()\n",
    "    get_second_line()\n",
    "    l.release()\n",
    "\n",
    "t1=Thread(target=main)\n",
    "t1.start()"
   ]
  },
  {
   "cell_type": "markdown",
   "metadata": {},
   "source": [
    "#### Semaphore - Python"
   ]
  },
  {
   "cell_type": "markdown",
   "metadata": {},
   "source": [
    "In Lock and RLock, at a time only one Thread is allowed to execute. \n",
    "but sometimes our requirement is to execute a particular number of Threads at a time."
   ]
  },
  {
   "cell_type": "markdown",
   "metadata": {},
   "source": [
    "Semaphore can be used to limit the access to the shared resources with limited capacity."
   ]
  },
  {
   "cell_type": "markdown",
   "metadata": {},
   "source": [
    "Ex - If A website has capacity to view only 100 user at time, but user are 1000 then in this next 100 people get change to view website if previous 100 log out from website"
   ]
  },
  {
   "cell_type": "markdown",
   "metadata": {},
   "source": [
    "from threading import Semaphore\n",
    "\n",
    "Create an object of Semaphore class. \n",
    "    - Syntax : Semaphore()\n",
    "    \n",
    "Acquire lock using acquire(). \n",
    "    - Syntax : s.acquire()"
   ]
  },
  {
   "cell_type": "code",
   "execution_count": 75,
   "metadata": {},
   "outputs": [
    {
     "name": "stdout",
     "output_type": "stream",
     "text": [
      "Hello, I am in Thread - 1 \n",
      "Hello, I am in Thread - 2 \n",
      "Hello, I am in Thread - 1 \n",
      "Hello, I am in Thread - 2 \n",
      "Hello, I am in Thread - 2 Hello, I am in Thread - 1 \n",
      "\n",
      "Hello, I am in Thread - 3 Hello, I am in Thread - 4 \n",
      "\n",
      "Hello, I am in Thread - 3 Hello, I am in Thread - 4 \n",
      "\n",
      "Hello, I am in Thread - 3 Hello, I am in Thread - 4 \n",
      "\n",
      "Hello, I am in Thread - 5 \n",
      "Hello, I am in Thread - 5 \n",
      "Hello, I am in Thread - 5 \n"
     ]
    }
   ],
   "source": [
    "from threading import Semaphore, BoundedSemaphore\n",
    "from time import sleep\n",
    "\n",
    "'''\n",
    "BoundedSemaphore has exact same feature like Semaphore except BoundedSemaphore has extra capability to handle \n",
    "acquire and release count mismatch\n",
    "'''\n",
    "\n",
    "obj = Semaphore(value=2)\n",
    "'''default value=1, means only 1 thread can access variable at time, it behave like Lock and R Lock\n",
    "\n",
    "But If we want to execute multiple thread at a time, increase value=10 for 10 thread at time\n",
    "'''\n",
    "\n",
    "\n",
    "\n",
    "# creating instance \n",
    "def display(name): \n",
    "    # calling acquire method \n",
    "    obj.acquire() \n",
    "    for _ in range(3):\n",
    "        print(f\"Hello, I am in { name } \") \n",
    "        sleep(2) \n",
    "        # calling release method \n",
    "    obj.release() \n",
    "        \n",
    "        # creating multiple thread \n",
    "t1 = Thread(target = display,args=(\"Thread - 1\",))\n",
    "t2 = Thread(target = display,args=(\"Thread - 2\",))\n",
    "t3 = Thread(target = display,args=(\"Thread - 3\",))\n",
    "t4 = Thread(target = display,args=(\"Thread - 4\",))\n",
    "t5 = Thread(target = display,args=(\"Thread - 5\",))\n",
    "\n",
    "t1.start()\n",
    "t2.start()\n",
    "t3.start()\n",
    "t4.start()\n",
    "t5.start()"
   ]
  },
  {
   "cell_type": "markdown",
   "metadata": {},
   "source": [
    "#### Exception in Multithreading"
   ]
  },
  {
   "cell_type": "code",
   "execution_count": 77,
   "metadata": {},
   "outputs": [
    {
     "name": "stderr",
     "output_type": "stream",
     "text": [
      "Exception in thread T1:\n",
      "Traceback (most recent call last):\n",
      "  File \"C:\\Users\\TarunKumarChaubey\\anaconda3\\envs\\CVRnD\\lib\\threading.py\", line 932, in _bootstrap_inner\n",
      "    self.run()\n",
      "  File \"C:\\Users\\TarunKumarChaubey\\anaconda3\\envs\\CVRnD\\lib\\threading.py\", line 870, in run\n",
      "    self._target(*self._args, **self._kwargs)\n",
      "  File \"C:\\Users\\TarunKumarChaubey\\AppData\\Local\\Temp\\ipykernel_17244\\445427953.py\", line 7, in display\n",
      "TypeError: can only concatenate str (not \"int\") to str\n"
     ]
    },
    {
     "name": "stdout",
     "output_type": "stream",
     "text": [
      "Hello I'm in T2\n",
      "Hello I'm in T2\n",
      "Hello I'm in T2\n",
      "Hello I'm in T2\n",
      "Bye\n",
      "Bye\n",
      "Bye\n",
      "Bye\n"
     ]
    }
   ],
   "source": [
    "from threading import Thread, current_thread\n",
    "from time import sleep \n",
    "\n",
    "def display():\n",
    "    for i in range(4):\n",
    "        sleep(0.1) \n",
    "        print(\"hello : \"+10) \n",
    "        \n",
    "def show():\n",
    "    for i in range(4):\n",
    "        print(\"Hello I'm in {}\".format(current_thread().name))\n",
    "        sleep(0.5)\n",
    "        \n",
    "t1=Thread(target=display, name=\"T1\")\n",
    "t2=Thread(target=show ,name=\"T2\")\n",
    "t1.start()\n",
    "t2.start()\n",
    "t1.join()\n",
    "t2.join()\n",
    "for i in range(4):\n",
    "    print(\"Bye\")"
   ]
  },
  {
   "cell_type": "markdown",
   "metadata": {},
   "source": [
    "display() function has error but do not interrupt other thread execution "
   ]
  },
  {
   "cell_type": "markdown",
   "metadata": {},
   "source": [
    "What happens for exception in thread? \n",
    "\n",
    "The interpreter calls threading.excepthook() \n",
    "argument i.e named tuple with 4 arguments \n",
    "* the exception class \n",
    "* exception instance/value \n",
    "* a traceback object \n",
    "* Thread name"
   ]
  },
  {
   "cell_type": "markdown",
   "metadata": {},
   "source": [
    "For main thread -> sys.excepthook \n",
    "\n",
    "fot create thread -> threadthreading.excepthook -> sys.excepthook "
   ]
  },
  {
   "cell_type": "code",
   "execution_count": 82,
   "metadata": {},
   "outputs": [
    {
     "name": "stdout",
     "output_type": "stream",
     "text": [
      "Hello I'm in T2\n",
      "Exception Occured In Threas\n",
      "<class 'TypeError'>\n",
      "can only concatenate str (not \"int\") to str\n",
      "<traceback object at 0x000001DFABD39AC0>\n",
      "<Thread(T1, started 23076)>\n",
      "Hello I'm in T2\n",
      "Hello I'm in T2\n",
      "Hello I'm in T2\n",
      "Bye\n",
      "Bye\n",
      "Bye\n",
      "Bye\n"
     ]
    }
   ],
   "source": [
    "from threading import Thread, current_thread\n",
    "from time import sleep \n",
    "import threading\n",
    "\n",
    "def custom_hook(args):\n",
    "        print(\"Exception Occured In Threas\")\n",
    "        print(args[0])\n",
    "        print(args[1])\n",
    "        print(args[2])\n",
    "        print(args[3])\n",
    "\n",
    "def display():\n",
    "    for i in range(4):\n",
    "        sleep(0.1) \n",
    "        print(\"hello : \"+10) \n",
    "        \n",
    "def show():\n",
    "    for i in range(4):\n",
    "        print(\"Hello I'm in {}\".format(current_thread().name))\n",
    "        sleep(0.5)\n",
    "\n",
    "threading.excepthook = custom_hook\n",
    "t1=Thread(target=display, name=\"T1\")\n",
    "t2=Thread(target=show ,name=\"T2\")\n",
    "t1.start()\n",
    "t2.start()\n",
    "t1.join()\n",
    "t2.join()\n",
    "for i in range(4):\n",
    "    print(\"Bye\")"
   ]
  },
  {
   "cell_type": "markdown",
   "metadata": {},
   "source": [
    "#### Thread Communication\n",
    "* In concurrent programming, sometimes we need to co-ordinate threads\n",
    "* Threads communicate with each other code-yug signals."
   ]
  },
  {
   "cell_type": "markdown",
   "metadata": {},
   "source": [
    "Three ways:-\n",
    "* By creating event object\n",
    "* By creating condition object\n",
    "* By using queue module"
   ]
  },
  {
   "cell_type": "markdown",
   "metadata": {},
   "source": [
    "event object used to interact between two thread only"
   ]
  },
  {
   "cell_type": "markdown",
   "metadata": {},
   "source": [
    "    - First, we have to create an event object.\n",
    "    - Create two threads which will communicate.\n",
    "    - Put t2 thread in waiting by using wait().\n",
    "    - Use set() method in/after t1 threads code."
   ]
  },
  {
   "cell_type": "markdown",
   "metadata": {},
   "source": [
    "set():-\n",
    "    - Set the internal flag to true.\n",
    "    - If flag is True, waiting thread is awakened.\n",
    "reset():-\n",
    "    - Reset the internal flag to false.\n",
    "    - other thread will wait again."
   ]
  },
  {
   "cell_type": "markdown",
   "metadata": {},
   "source": [
    "is_set():-\n",
    "    - Return True if and only if the internal flag is trus\n",
    "    - ex. if event.is_set()\n",
    "\n",
    "wait([timeout]):-\n",
    "    - Calling this function keep on thue untill flaa is set to True."
   ]
  },
  {
   "cell_type": "code",
   "execution_count": 142,
   "metadata": {},
   "outputs": [
    {
     "name": "stdout",
     "output_type": "stream",
     "text": [
      "game is started\n",
      "code for destroying\n"
     ]
    }
   ],
   "source": [
    "import threading\n",
    "import time\n",
    "e = threading.Event()\n",
    "#step-01\n",
    "def task():\n",
    "    print (\"game is started\")\n",
    "    time.sleep(3)\n",
    "    e.set()\n",
    "\n",
    "def end():\n",
    "    e.wait()\n",
    "    if e.is_set():\n",
    "        print(\"code for destroying\")\n",
    "t1 = threading.Thread(target=task)\n",
    "t2 = threading.Thread(target=end)\n",
    "t1.start()\n",
    "t2.start()"
   ]
  },
  {
   "cell_type": "code",
   "execution_count": null,
   "metadata": {},
   "outputs": [],
   "source": []
  }
 ],
 "metadata": {
  "kernelspec": {
   "display_name": "Python 3 (ipykernel)",
   "language": "python",
   "name": "python3"
  },
  "language_info": {
   "codemirror_mode": {
    "name": "ipython",
    "version": 3
   },
   "file_extension": ".py",
   "mimetype": "text/x-python",
   "name": "python",
   "nbconvert_exporter": "python",
   "pygments_lexer": "ipython3",
   "version": "3.8.18"
  }
 },
 "nbformat": 4,
 "nbformat_minor": 2
}
