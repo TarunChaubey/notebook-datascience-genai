{
 "cells": [
  {
   "cell_type": "code",
   "execution_count": null,
   "id": "5689796d",
   "metadata": {},
   "outputs": [],
   "source": [
    "from threading import Thread, Lock, RLock, Semaphore, BoundedSemaphore, current_thread\n",
    "import time"
   ]
  },
  {
   "cell_type": "code",
   "execution_count": null,
   "id": "eccdeab5",
   "metadata": {},
   "outputs": [],
   "source": [
    "def CheckThread(st):\n",
    "    print(\"\\n\")\n",
    "    print(\"Hellow I am in {}\".format(current_thread().name))\n",
    "    print(f\" Thred Name : {current_thread().getName()} \\n Is Alive : {current_thread().is_alive()} \\n Thread Id {current_thread().native_id}\")\n",
    "    time.sleep(st)"
   ]
  },
  {
   "cell_type": "markdown",
   "id": "9fe806d6",
   "metadata": {},
   "source": [
    "from concurrent.futures.thread import ThreadPoolExecutor, threading\n",
    "\n",
    "THREADS =  20\n",
    "\n",
    "with ThreadPoolExecutor(max_workers=THREADS) as exe:\n",
    "    jobs = {exe.submit(CheckThread, i): i for i in range(THREADS)}"
   ]
  },
  {
   "cell_type": "code",
   "execution_count": null,
   "id": "c5a38c57",
   "metadata": {},
   "outputs": [],
   "source": [
    "# Create and start threads\n",
    "threads = []\n",
    "\n",
    "for i in range(1,10):\n",
    "    thread = Thread(target=CheckThread, args=(3,), name='T{}'.format(i))\n",
    "    thread.start()\n",
    "    threads.append(thread)\n",
    "\n",
    "# Wait for all threads to finish\n",
    "for thread in threads:\n",
    "    thread.join()"
   ]
  },
  {
   "cell_type": "markdown",
   "id": "8e87e125",
   "metadata": {},
   "source": [
    "### Thread Communication"
   ]
  },
  {
   "cell_type": "markdown",
   "id": "1037e45c",
   "metadata": {},
   "source": [
    "Three ways:-\n",
    "* By creating event object ( can established communication between two threads only)\n",
    "* By creating condition object\n",
    "* By using queue module"
   ]
  },
  {
   "cell_type": "markdown",
   "id": "b4f3acbe",
   "metadata": {},
   "source": [
    "* First, we have to create an event object.\n",
    "* Create two threads which will communicate.\n",
    "* Put t2 thread in waiting by using wait().\n",
    "* Use set()) method in/after tl threads code."
   ]
  },
  {
   "cell_type": "markdown",
   "id": "67189ad3",
   "metadata": {},
   "source": [
    "1) set():-\n",
    "    * Set the internal flag to true.\n",
    "    * If flag is True, waiting thread is anka terriese\n",
    "\n",
    "2) reset():-\n",
    "    * Reset the internal flag to false\n",
    "    * other thread will wait again.\n",
    "    \n",
    "3) is_set):-\n",
    "    * Return True if and only if the internal flag is true\n",
    "        ex. if event.is_set):\n",
    "    * Pull up for precise seeking\n",
    "        do something..\n",
    "4) wait([timeout]):-\n",
    "      * Calling this function keep other threat ott watt\n",
    "            until flaa is set to True"
   ]
  },
  {
   "cell_type": "code",
   "execution_count": null,
   "id": "1eb40061",
   "metadata": {},
   "outputs": [],
   "source": [
    "from threading import Thread, Event, current_thread\n",
    "import time"
   ]
  },
  {
   "cell_type": "code",
   "execution_count": null,
   "id": "c7351302",
   "metadata": {},
   "outputs": [],
   "source": [
    "evt = Event()\n",
    "\n",
    "def Start():\n",
    "    print(f\"I am in Thread {current_thread().name}\")\n",
    "    time.sleep(5)\n",
    "    evt.set()\n",
    "\n",
    "def End():\n",
    "    evt.wait()\n",
    "    if evt.is_set():\n",
    "        print(f\"I am in Thread {current_thread().name}\")\n",
    "\n",
    "\n",
    "t1 = Thread(target = Start, name = 'T1')\n",
    "t2 = Thread(target = End, name = 'T2')\n",
    "\n",
    "t1.start()\n",
    "t2.start()"
   ]
  },
  {
   "cell_type": "code",
   "execution_count": null,
   "id": "22fe0d66",
   "metadata": {},
   "outputs": [],
   "source": [
    "import threading\n",
    "from threading import Thread\n",
    "from time import sleep\n",
    "e = threading.Event()\n",
    "\n",
    "\n",
    "def light_switch():\n",
    "    while True:\n",
    "        print(\"Light is Green\")\n",
    "        e.set()\n",
    "        sleep(5)\n",
    "        print(\"Light Is Red\")\n",
    "        e.clear()\n",
    "        sleep(5)\n",
    "        e.set()\n",
    "        \n",
    "def traffic_message():\n",
    "    e.wait()\n",
    "    while e.is_set():\n",
    "        print(\"You Can Go\")\n",
    "        sleep(0.5)\n",
    "        e.wait()\n",
    "    \n",
    "t1 = Thread(target = light_switch, name = 'T1')\n",
    "t2 = Thread(target = traffic_message, name = 'T2')\n",
    "\n",
    "t1.start()\n",
    "t2.start()"
   ]
  },
  {
   "cell_type": "code",
   "execution_count": null,
   "id": "38b3d398",
   "metadata": {},
   "outputs": [],
   "source": [
    "def Check(**kwargs):\n",
    "    for keys, val in kwargs.items():\n",
    "        print(keys, \" :-> \",val)\n",
    "        \n",
    "    \n",
    "# Check(keys = list(data.keys()), values = list(data.values()))"
   ]
  },
  {
   "cell_type": "code",
   "execution_count": null,
   "id": "31516072",
   "metadata": {},
   "outputs": [],
   "source": [
    "import uuid\n",
    "data = {str(ind):str(uuid.uuid4()) for ind in range(10)}"
   ]
  },
  {
   "cell_type": "code",
   "execution_count": null,
   "id": "4eb96595",
   "metadata": {},
   "outputs": [],
   "source": [
    "Check(**data)"
   ]
  },
  {
   "cell_type": "code",
   "execution_count": null,
   "id": "d2aeb7d3",
   "metadata": {},
   "outputs": [],
   "source": [
    "import"
   ]
  },
  {
   "cell_type": "code",
   "execution_count": 6,
   "id": "52f67928",
   "metadata": {},
   "outputs": [],
   "source": [
    "import multiprocessing\n",
    "import logging\n",
    "\n",
    "def Hellow(name):\n",
    "    logging.basicConfig(level=logging.INFO)\n",
    "    logging.info(f\"Hello, {name}\")\n",
    "\n",
    "if __name__ == \"__main__\":\n",
    "    p1 = multiprocessing.Process(target=Hellow, args=(\"World\",))\n",
    "    p1.start()\n",
    "    p1.join()"
   ]
  },
  {
   "cell_type": "code",
   "execution_count": 4,
   "id": "f7b5c989",
   "metadata": {},
   "outputs": [
    {
     "name": "stdout",
     "output_type": "stream",
     "text": [
      "main line\n",
      "module name: __main__\n",
      "parent process: 16284\n",
      "process id: 12992\n"
     ]
    }
   ],
   "source": [
    "from multiprocessing import Process\n",
    "import os\n",
    "\n",
    "def info(title):\n",
    "    print(title)\n",
    "    print('module name:', __name__)\n",
    "    print('parent process:', os.getppid())\n",
    "    print('process id:', os.getpid())\n",
    "\n",
    "def f(name):\n",
    "    info('function f')\n",
    "    return print('hello', name)\n",
    "\n",
    "if __name__ == '__main__':\n",
    "    info('main line')\n",
    "    p = Process(target=f, args=('bob',))\n",
    "    p.start()\n",
    "    p.join()"
   ]
  },
  {
   "cell_type": "code",
   "execution_count": null,
   "id": "f4613aae",
   "metadata": {},
   "outputs": [],
   "source": []
  }
 ],
 "metadata": {
  "kernelspec": {
   "display_name": "Python 3 (ipykernel)",
   "language": "python",
   "name": "python3"
  },
  "language_info": {
   "codemirror_mode": {
    "name": "ipython",
    "version": 3
   },
   "file_extension": ".py",
   "mimetype": "text/x-python",
   "name": "python",
   "nbconvert_exporter": "python",
   "pygments_lexer": "ipython3",
   "version": "3.9.18"
  }
 },
 "nbformat": 4,
 "nbformat_minor": 5
}
