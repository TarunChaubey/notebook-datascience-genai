{
 "cells": [
  {
   "cell_type": "code",
   "execution_count": 1,
   "id": "0bdc3a3b",
   "metadata": {},
   "outputs": [],
   "source": [
    "import cv2\n",
    "import numpy as np\n",
    "from glob import glob\n",
    "import matplotlib.pyplot as plt\n",
    "%matplotlib inline"
   ]
  },
  {
   "cell_type": "code",
   "execution_count": 13,
   "id": "8a73656e",
   "metadata": {},
   "outputs": [
    {
     "name": "stdout",
     "output_type": "stream",
     "text": [
      "Image Count : 8\n"
     ]
    }
   ],
   "source": [
    "from glob import glob\n",
    "images_path = glob('Temp_data/*')\n",
    "print(\"Image Count : {}\".format(len(images_path)))"
   ]
  },
  {
   "cell_type": "code",
   "execution_count": 11,
   "id": "c273be83",
   "metadata": {},
   "outputs": [],
   "source": [
    "from PIL import Image, ImageDraw, ImageFont\n",
    "import os\n",
    "\n",
    "def merge_images_with_filenames(image_paths, output_path, gap=10, font_size=20):\n",
    "    images = [Image.open(path) for path in image_paths]\n",
    "    font = ImageFont.load_default() if not os.path.exists(\"arial.ttf\") else ImageFont.truetype(\"arial.ttf\", font_size)\n",
    "\n",
    "    # Find the maximum width and height among all images\n",
    "    max_width = max(image.width for image in images)\n",
    "    max_height = max(image.height for image in images)\n",
    "\n",
    "    # Resize all images to the maximum width and height\n",
    "    resized_images = [image.resize((max_width, max_height)) for image in images]\n",
    "\n",
    "    # Calculate the width and height of the final image\n",
    "    matrix_size = (2, 2)  # For a 2x2 matrix\n",
    "    final_width = max_width * matrix_size[0] + gap * (matrix_size[0] + 1)\n",
    "    final_height = max_height * matrix_size[1] + (font_size + gap) * matrix_size[1] + gap\n",
    "\n",
    "    # Create a blank canvas\n",
    "    final_image = Image.new('RGB', (final_width, final_height), (255, 255, 255))\n",
    "    draw = ImageDraw.Draw(final_image)\n",
    "\n",
    "    # Iterate and paste images into the canvas\n",
    "    for idx, (path, image) in enumerate(zip(image_paths, resized_images)):\n",
    "        filename = os.path.basename(path)\n",
    "        text_bbox = draw.textbbox((0, 0), filename, font=font)\n",
    "        text_width, text_height = text_bbox[2] - text_bbox[0], text_bbox[3] - text_bbox[1]\n",
    "\n",
    "        row, col = divmod(idx, matrix_size[0])\n",
    "        x_offset = col * (max_width + gap) + gap\n",
    "        y_offset = row * (max_height + font_size + 2 * gap) + gap\n",
    "\n",
    "        # Draw the filename\n",
    "        draw.text((x_offset + (max_width - text_width) / 2, y_offset), filename, font=font, fill=(0, 0, 0))\n",
    "        # Paste the image\n",
    "        final_image.paste(image, (x_offset, y_offset + font_size + gap))\n",
    "\n",
    "    # Save the final image\n",
    "    final_image.save(output_path)\n",
    "\n",
    "# Example usage\n",
    "image_paths = images_path[:4] # List of Images path\n",
    "output_path = \"merged_image.jpg\" # Filename of Merge Output Images\n",
    "merge_images_with_filenames(image_paths, output_path)"
   ]
  },
  {
   "cell_type": "code",
   "execution_count": 12,
   "id": "fe24ec30",
   "metadata": {},
   "outputs": [],
   "source": []
  },
  {
   "cell_type": "code",
   "execution_count": null,
   "id": "0096f5ae",
   "metadata": {},
   "outputs": [],
   "source": []
  }
 ],
 "metadata": {
  "kernelspec": {
   "display_name": "Python 3 (ipykernel)",
   "language": "python",
   "name": "python3"
  },
  "language_info": {
   "codemirror_mode": {
    "name": "ipython",
    "version": 3
   },
   "file_extension": ".py",
   "mimetype": "text/x-python",
   "name": "python",
   "nbconvert_exporter": "python",
   "pygments_lexer": "ipython3",
   "version": "3.8.18"
  }
 },
 "nbformat": 4,
 "nbformat_minor": 5
}
