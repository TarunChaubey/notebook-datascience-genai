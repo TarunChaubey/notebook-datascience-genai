{
 "cells": [
  {
   "cell_type": "code",
   "execution_count": 71,
   "id": "3db5c230",
   "metadata": {},
   "outputs": [],
   "source": [
    "import mysql.connector"
   ]
  },
  {
   "cell_type": "code",
   "execution_count": 70,
   "id": "07ae4334",
   "metadata": {},
   "outputs": [],
   "source": [
    "conn = mysql.connector.connect(host=\"127.0.0.1\", port=3306,\n",
    "                               user=\"root\", password=\"qwerty\")\n",
    "\n",
    "class SQLHelper:\n",
    "\n",
    "    def __init__(self, dbname, table_name):\n",
    "        self.dbname = dbname\n",
    "        self.table_name = table_name\n",
    "        self.conn = mysql.connector.connect(host=\"127.0.0.1\", port=3306,\n",
    "                               user=\"root\", password=\"qwerty\", database = self.dbname)\n",
    "\n",
    "    def RunQuery(self, query):\n",
    "        # Create a cursor\n",
    "        cur = self.conn.cursor()\n",
    "\n",
    "        # Execute the query\n",
    "        cur.execute(query)\n",
    "\n",
    "        # Commit the changes (assuming you are making changes to the database)\n",
    "        self.conn.commit()\n",
    "\n",
    "        print(\"Query Executed\")\n",
    "\n",
    "    def ShowTables(self, dbname):\n",
    "\n",
    "        # Create connecation\n",
    "        cur = conn.cursor()\n",
    "\n",
    "        # Use Database\n",
    "        cur.execute(f\"USE {dbname}\")\n",
    "        \n",
    "        # Execute a query\n",
    "        cur.execute(\"SHOW TABLES\")\n",
    "        \n",
    "        # Fetch one result\n",
    "        row = cur.fetchall()\n",
    "\n",
    "        print([db for db in row])\n",
    "\n",
    "\n",
    "    def ShowDatabase(self):\n",
    "        cur = conn.cursor()\n",
    "        \n",
    "        # Execute a query\n",
    "        cur.execute(\"SHOW DATABASES\")\n",
    "        \n",
    "        # Fetch one result\n",
    "        row = cur.fetchall()\n",
    "\n",
    "        print([db for db in row])\n",
    "\n",
    "    def __get_datetime__(self):\n",
    "        # Get a cursor\n",
    "        cur = conn.cursor()\n",
    "        \n",
    "        # Execute a query\n",
    "        cur.execute(\"SELECT current_timestamp()\")\n",
    "        \n",
    "        # Fetch one result\n",
    "        row = cur.fetchone()\n",
    "        \n",
    "        print(\"Current date is: {0}\".format(row[0]))\n",
    "        \n",
    "        # Close connection\n",
    "        # conn.close()"
   ]
  },
  {
   "cell_type": "code",
   "execution_count": 62,
   "id": "055a8898",
   "metadata": {},
   "outputs": [],
   "source": [
    "dbname, table_name = 'RTPSDB', 'FrameTable'\n",
    "\n",
    "sql_objs = SQLHelper(dbname, table_name)"
   ]
  },
  {
   "cell_type": "code",
   "execution_count": 63,
   "id": "30e81bab",
   "metadata": {},
   "outputs": [
    {
     "name": "stdout",
     "output_type": "stream",
     "text": [
      "Current date is: 2023-12-17 17:50:35\n"
     ]
    }
   ],
   "source": [
    "sql_objs.__get_datetime__()"
   ]
  },
  {
   "cell_type": "code",
   "execution_count": 24,
   "id": "17932259",
   "metadata": {},
   "outputs": [
    {
     "name": "stdout",
     "output_type": "stream",
     "text": [
      "[('information_schema',), ('mysql',), ('performance_schema',), ('rtpsdb',), ('sakila',), ('sys',), ('world',)]\n"
     ]
    }
   ],
   "source": [
    "sql_objs.ShowDatabase()"
   ]
  },
  {
   "cell_type": "code",
   "execution_count": 25,
   "id": "c56dc316",
   "metadata": {},
   "outputs": [],
   "source": [
    "# sql_objs.RunQuery(\"CREATE DATABASE IF NOT EXISTS {}\".format(dbname))"
   ]
  },
  {
   "cell_type": "code",
   "execution_count": 26,
   "id": "c0d685b4",
   "metadata": {},
   "outputs": [
    {
     "name": "stdout",
     "output_type": "stream",
     "text": [
      "[('information_schema',), ('mysql',), ('performance_schema',), ('rtpsdb',), ('sakila',), ('sys',), ('world',)]\n"
     ]
    }
   ],
   "source": [
    "sql_objs.ShowDatabase()"
   ]
  },
  {
   "cell_type": "code",
   "execution_count": 27,
   "id": "141f193d",
   "metadata": {},
   "outputs": [
    {
     "name": "stdout",
     "output_type": "stream",
     "text": [
      "[('extractedframefromvideo',)]\n"
     ]
    }
   ],
   "source": [
    "sql_objs.ShowTables(dbname)"
   ]
  },
  {
   "cell_type": "markdown",
   "id": "f3d19d76",
   "metadata": {},
   "source": [
    "#### Frame Table Schema\n",
    "* frame_id int\n",
    "* cam_id int\n",
    "* date_time datetime\n",
    "* Site_id int\n",
    "* username varchar\n",
    "* email_id varchar"
   ]
  },
  {
   "cell_type": "markdown",
   "id": "b15dcda1",
   "metadata": {},
   "source": [
    "#### Predication Table Id\n",
    "* frame_id int\n",
    "* predication_id  int + varchar\n",
    "* Site_id int\n",
    "* Volflag int"
   ]
  },
  {
   "cell_type": "code",
   "execution_count": null,
   "id": "af29e604",
   "metadata": {},
   "outputs": [],
   "source": [
    "sql_query = \"\"\"\n",
    "CREATE TABLE IF NOT EXISTS ExtractedFrameFromVideo (\n",
    "    frame_id bigint AUTO_INCREMENT PRIMARY KEY,\n",
    "    cam_id smallint,\n",
    "    date_time DATETIME(6),\n",
    "    Site_id smallint,\n",
    "    username varchar(255),\n",
    "    email_id varchar(255)\n",
    ");\n",
    "\"\"\""
   ]
  },
  {
   "cell_type": "code",
   "execution_count": 8,
   "id": "04af7af5",
   "metadata": {},
   "outputs": [
    {
     "name": "stdout",
     "output_type": "stream",
     "text": [
      "[('def', 'rtpsdb', 'extractedframefromvideo', 'cam_id', 2, None, 'YES', 'smallint', None, None, 5, 0, None, None, None, 'smallint', '', '', 'select,insert,update,references', '', '', None), ('def', 'rtpsdb', 'extractedframefromvideo', 'date_time', 3, None, 'YES', 'datetime', None, None, None, None, 6, None, None, 'datetime(6)', '', '', 'select,insert,update,references', '', '', None), ('def', 'rtpsdb', 'extractedframefromvideo', 'email_id', 6, None, 'YES', 'varchar', 255, 1020, None, None, None, 'utf8mb4', 'utf8mb4_0900_ai_ci', 'varchar(255)', '', '', 'select,insert,update,references', '', '', None), ('def', 'rtpsdb', 'extractedframefromvideo', 'frame_id', 1, None, 'NO', 'bigint', None, None, 19, 0, None, None, None, 'bigint', 'PRI', 'auto_increment', 'select,insert,update,references', '', '', None), ('def', 'rtpsdb', 'extractedframefromvideo', 'Site_id', 4, None, 'YES', 'smallint', None, None, 5, 0, None, None, None, 'smallint', '', '', 'select,insert,update,references', '', '', None), ('def', 'rtpsdb', 'extractedframefromvideo', 'username', 5, None, 'YES', 'varchar', 255, 1020, None, None, None, 'utf8mb4', 'utf8mb4_0900_ai_ci', 'varchar(255)', '', '', 'select,insert,update,references', '', '', None)]\n"
     ]
    }
   ],
   "source": [
    "sql_objs.RunQuery(\"\"\"select *\n",
    "from INFORMATION_SCHEMA.COLUMNS\n",
    "where TABLE_NAME='ExtractedFrameFromVideo'\"\"\")"
   ]
  },
  {
   "cell_type": "code",
   "execution_count": 64,
   "id": "50ef2805",
   "metadata": {},
   "outputs": [
    {
     "data": {
      "text/plain": [
       "'1217202317503954'"
      ]
     },
     "execution_count": 64,
     "metadata": {},
     "output_type": "execute_result"
    }
   ],
   "source": [
    "from datetime import datetime\n",
    "frame_id = datetime.now().strftime(\"%m%d%Y%H%M%S%f\")[:-4]\n",
    "frame_id"
   ]
  },
  {
   "cell_type": "code",
   "execution_count": 65,
   "id": "9e8f7eda",
   "metadata": {},
   "outputs": [
    {
     "data": {
      "text/plain": [
       "('1217202316304496',\n",
       " '1',\n",
       " '2023-12-16 23:19:21.000000',\n",
       " '1',\n",
       " 'tarunchaubey',\n",
       " 'tarunchaubey09@gmail.com')"
      ]
     },
     "execution_count": 65,
     "metadata": {},
     "output_type": "execute_result"
    }
   ],
   "source": [
    "'1217202316304496', '1', '2023-12-16 23:19:21.000000', '1', 'tarunchaubey', 'tarunchaubey09@gmail.com'\n"
   ]
  },
  {
   "cell_type": "code",
   "execution_count": 66,
   "id": "edcb6298",
   "metadata": {},
   "outputs": [
    {
     "data": {
      "text/plain": [
       "'2023-12-17 17:50:40.508690'"
      ]
     },
     "execution_count": 66,
     "metadata": {},
     "output_type": "execute_result"
    }
   ],
   "source": [
    "date_time = str(datetime.now().strftime(\"%Y-%m-%d %H:%M:%S.%f\"))\n",
    "date_time"
   ]
  },
  {
   "cell_type": "code",
   "execution_count": 67,
   "id": "77f6b334",
   "metadata": {},
   "outputs": [
    {
     "data": {
      "text/plain": [
       "{'frame_id': '1217202317503954',\n",
       " 'cam_id': 1,\n",
       " 'date_time': '2023-12-17 17:50:40.508690',\n",
       " 'Site_id': 1,\n",
       " 'username': 'tarunchaubey',\n",
       " 'email_id': 'tarunchaubey09@gmail.com'}"
      ]
     },
     "execution_count": 67,
     "metadata": {},
     "output_type": "execute_result"
    }
   ],
   "source": [
    "data = {\"frame_id\": frame_id,\n",
    "        \"cam_id\": 1,\n",
    "        \"date_time\": date_time,\n",
    "        \"Site_id\": 1,\n",
    "        \"username\": \"tarunchaubey\",\n",
    "        \"email_id\": \"tarunchaubey09@gmail.com\"\n",
    "        }\n",
    "\n",
    "data"
   ]
  },
  {
   "cell_type": "code",
   "execution_count": 68,
   "id": "f2547ad6",
   "metadata": {},
   "outputs": [
    {
     "data": {
      "text/plain": [
       "\"INSERT INTO ExtractedFrameFromVideo (frame_id, cam_id, date_time, Site_id, username, email_id) VALUES ('1217202317503954', 1, '2023-12-17 17:50:40.508690', 1, 'tarunchaubey', 'tarunchaubey09@gmail.com');\""
      ]
     },
     "execution_count": 68,
     "metadata": {},
     "output_type": "execute_result"
    }
   ],
   "source": [
    "query = f\"\"\"INSERT INTO ExtractedFrameFromVideo (frame_id, cam_id, date_time, Site_id, username, email_id) VALUES {tuple(data.values())};\"\"\"\n",
    "query"
   ]
  },
  {
   "cell_type": "code",
   "execution_count": 69,
   "id": "47d08e06",
   "metadata": {},
   "outputs": [],
   "source": [
    "sql_objs.RunQuery(query)"
   ]
  },
  {
   "cell_type": "code",
   "execution_count": 74,
   "id": "1ec2c537",
   "metadata": {},
   "outputs": [
    {
     "name": "stdout",
     "output_type": "stream",
     "text": [
      "[]\n"
     ]
    }
   ],
   "source": [
    "sql_objs.RunQuery(\"\"\"INSERT INTO ExtractedFrameFromVideo (frame_id, cam_id, date_time, Site_id, username, email_id)\n",
    "VALUES (1217202317214289, 1, '2023-12-16 23:19:21', 1, 'tarunchaubey', 'tarunchaubey09@gmail.com');\n",
    "\"\"\")"
   ]
  },
  {
   "cell_type": "code",
   "execution_count": 75,
   "id": "b585fde3",
   "metadata": {},
   "outputs": [
    {
     "name": "stdout",
     "output_type": "stream",
     "text": [
      "[(121620232331, 1, datetime.datetime(2023, 12, 16, 23, 19, 21), 1, 'tarunchaubey', 'tarunchaubey09@gmail.com'), (131620232331, 1, datetime.datetime(2023, 12, 16, 23, 19, 21), 1, 'tarunchaubey', 'tarunchaubey09@gmail.com'), (1316720232331, 1, datetime.datetime(2023, 12, 16, 23, 19, 21), 1, 'tarunchaubey', 'tarunchaubey09@gmail.com'), (1217202316304496, 1, datetime.datetime(2023, 12, 16, 23, 19, 21), 1, 'tarunchaubey', 'tarunchaubey09@gmail.com'), (1217202317041617, 1, datetime.datetime(2023, 12, 16, 23, 19, 21), 1, 'tarunchaubey', 'tarunchaubey09@gmail.com'), (1217202317041667, 1, datetime.datetime(2023, 12, 16, 23, 19, 21), 1, 'tarunchaubey', 'tarunchaubey09@gmail.com'), (1217202317041697, 1, datetime.datetime(2023, 12, 16, 23, 19, 21), 1, 'tarunchaubey', 'tarunchaubey09@gmail.com'), (1217202317214289, 1, datetime.datetime(2023, 12, 16, 23, 19, 21), 1, 'tarunchaubey', 'tarunchaubey09@gmail.com')]\n"
     ]
    }
   ],
   "source": [
    "sql_objs.RunQuery('''SELECT * FROM ExtractedFrameFromVideo''')"
   ]
  },
  {
   "cell_type": "code",
   "execution_count": 1,
   "id": "83820879",
   "metadata": {},
   "outputs": [],
   "source": [
    "import numpy as np"
   ]
  },
  {
   "cell_type": "code",
   "execution_count": 5,
   "id": "df5f02e3",
   "metadata": {},
   "outputs": [
    {
     "data": {
      "text/plain": [
       "53"
      ]
     },
     "execution_count": 5,
     "metadata": {},
     "output_type": "execute_result"
    }
   ],
   "source": [
    "np.random.randint(0,100,1)[0]"
   ]
  },
  {
   "cell_type": "code",
   "execution_count": null,
   "id": "8ab6df17",
   "metadata": {},
   "outputs": [],
   "source": []
  }
 ],
 "metadata": {
  "kernelspec": {
   "display_name": "Python 3 (ipykernel)",
   "language": "python",
   "name": "python3"
  },
  "language_info": {
   "codemirror_mode": {
    "name": "ipython",
    "version": 3
   },
   "file_extension": ".py",
   "mimetype": "text/x-python",
   "name": "python",
   "nbconvert_exporter": "python",
   "pygments_lexer": "ipython3",
   "version": "3.9.18"
  }
 },
 "nbformat": 4,
 "nbformat_minor": 5
}
