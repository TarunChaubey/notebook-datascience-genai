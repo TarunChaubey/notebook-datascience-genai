{
 "cells": [
  {
   "cell_type": "code",
   "execution_count": 1,
   "metadata": {},
   "outputs": [],
   "source": [
    "import os\n",
    "import json\n",
    "from glob import glob"
   ]
  },
  {
   "cell_type": "code",
   "execution_count": 2,
   "metadata": {},
   "outputs": [
    {
     "name": "stdout",
     "output_type": "stream",
     "text": [
      "Total Data Size : 699.0\n",
      " Train Data Size : 631.0\n",
      " Val Data Size : 68.0\n",
      "Ratio Of Train:Val 9:1\n"
     ]
    }
   ],
   "source": [
    "SizeOfTrainData = len(os.listdir('../Data/train'))/2\n",
    "SizeOfValData = len(os.listdir('../Data/val'))/2\n",
    "TotalData = SizeOfTrainData+SizeOfValData\n",
    "print(\"Total Data Size : {}\\n\".format(TotalData),\"Train Data Size : {}\\n\".format(SizeOfTrainData),\"Val Data Size : {}\".format(SizeOfValData))\n",
    "print(\"Ratio Of Train:Val {}:{}\".format(int(SizeOfTrainData/SizeOfValData),int(SizeOfValData/SizeOfValData)))"
   ]
  },
  {
   "cell_type": "code",
   "execution_count": 3,
   "metadata": {},
   "outputs": [],
   "source": [
    "import json\n",
    "def ReturnClassCount(json_path):\n",
    "    data = json.load(open(json_path))\n",
    "    cls_0 = 0\n",
    "    cls_1 = 0\n",
    "    for ind in range(0,len(data['annotations'])):\n",
    "        if data['annotations'][ind]['category_id'] == 0:\n",
    "            cls_0 = cls_0+1\n",
    "        else:\n",
    "            cls_1 = cls_1+1\n",
    "    print(\" benign Count : {}\\n malignant count: {}\".format(cls_0,cls_1),\"\\n\",data['categories'])"
   ]
  },
  {
   "cell_type": "code",
   "execution_count": 4,
   "metadata": {},
   "outputs": [
    {
     "name": "stdout",
     "output_type": "stream",
     "text": [
      " benign Count : 366\n",
      " malignant count: 265 \n",
      " [{'supercategory': 'benign', 'id': 0, 'name': 'benign'}, {'supercategory': 'malignant', 'id': 1, 'name': 'malignant'}]\n"
     ]
    }
   ],
   "source": [
    "# Train Data\n",
    "ReturnClassCount('../Data/train.json')"
   ]
  },
  {
   "cell_type": "code",
   "execution_count": 5,
   "metadata": {},
   "outputs": [
    {
     "name": "stdout",
     "output_type": "stream",
     "text": [
      " benign Count : 34\n",
      " malignant count: 34 \n",
      " [{'supercategory': 'benign', 'id': 0, 'name': 'benign'}, {'supercategory': 'malignant', 'id': 1, 'name': 'malignant'}]\n"
     ]
    }
   ],
   "source": [
    "# Val Data\n",
    "ReturnClassCount('../Data/val.json')"
   ]
  },
  {
   "cell_type": "code",
   "execution_count": 6,
   "metadata": {},
   "outputs": [],
   "source": [
    "data = json.load(open('../Data/train.json'))\n",
    "ImgInJSON = [data['images'][ind]['file_name'] for ind in range(len(data['images']))]"
   ]
  },
  {
   "cell_type": "code",
   "execution_count": 7,
   "metadata": {},
   "outputs": [],
   "source": [
    "ImgInTrainFolder = glob('../Data/train/*.jpg')\n",
    "ImgInTrainFolder = [ImgInTrainFolder[ind].split(\"\\\\\")[-1:][0] for ind in range(len(ImgInTrainFolder))]"
   ]
  },
  {
   "cell_type": "code",
   "execution_count": 8,
   "metadata": {},
   "outputs": [
    {
     "data": {
      "text/plain": [
       "631"
      ]
     },
     "execution_count": 8,
     "metadata": {},
     "output_type": "execute_result"
    }
   ],
   "source": [
    "len(ImgInTrainFolder)"
   ]
  },
  {
   "cell_type": "code",
   "execution_count": 9,
   "metadata": {},
   "outputs": [
    {
     "data": {
      "text/plain": [
       "631"
      ]
     },
     "execution_count": 9,
     "metadata": {},
     "output_type": "execute_result"
    }
   ],
   "source": [
    "len(ImgInJSON)"
   ]
  },
  {
   "cell_type": "code",
   "execution_count": null,
   "metadata": {},
   "outputs": [],
   "source": []
  }
 ],
 "metadata": {
  "accelerator": "GPU",
  "colab": {
   "authorship_tag": "ABX9TyNxDZqZJskKukKV/Z9TdQYi",
   "provenance": []
  },
  "gpuClass": "standard",
  "kernelspec": {
   "display_name": "Python 3 (ipykernel)",
   "language": "python",
   "name": "python3"
  },
  "language_info": {
   "codemirror_mode": {
    "name": "ipython",
    "version": 3
   },
   "file_extension": ".py",
   "mimetype": "text/x-python",
   "name": "python",
   "nbconvert_exporter": "python",
   "pygments_lexer": "ipython3",
   "version": "3.8.16"
  }
 },
 "nbformat": 4,
 "nbformat_minor": 1
}
