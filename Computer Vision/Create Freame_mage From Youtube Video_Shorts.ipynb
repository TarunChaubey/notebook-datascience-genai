{
 "cells": [
  {
   "cell_type": "code",
   "execution_count": 1,
   "id": "1075b2c1",
   "metadata": {},
   "outputs": [],
   "source": [
    "import os\n",
    "import cv2\n",
    "from pytube import YouTube"
   ]
  },
  {
   "cell_type": "code",
   "execution_count": 2,
   "id": "5e24d957",
   "metadata": {},
   "outputs": [],
   "source": [
    "output_dir = ''\n",
    "os.makedirs(output_dir,exist_ok=True)"
   ]
  },
  {
   "cell_type": "code",
   "execution_count": 3,
   "id": "c1fcc7f3",
   "metadata": {},
   "outputs": [],
   "source": [
    "import os\n",
    "import cv2\n",
    "from pytube import YouTube\n",
    "\n",
    "def download_youtube_video(url, save_path):\n",
    "    yt = YouTube(url)\n",
    "    video_stream = yt.streams.filter(file_extension='mp4', res='720p').first()\n",
    "    video_stream.download(save_path)\n",
    "    return video_stream.default_filename\n",
    "\n",
    "def extract_frames(input_video_path, output_folder, frames_per_second=6):\n",
    "    video_capture = cv2.VideoCapture(input_video_path)\n",
    "    fps = int(video_capture.get(cv2.CAP_PROP_FPS))\n",
    "    frame_interval = fps // frames_per_second\n",
    "\n",
    "    if not os.path.exists(output_folder):\n",
    "        os.makedirs(output_folder)\n",
    "\n",
    "    frame_counter = 0\n",
    "    while True:\n",
    "        ret, frame = video_capture.read()\n",
    "        if not ret:\n",
    "            break\n",
    "\n",
    "        if frame_counter % frame_interval == 0:\n",
    "            output_file = os.path.join(output_folder, f\"frame_{frame_counter}.jpg\")\n",
    "            cv2.imwrite(output_file, frame)\n",
    "\n",
    "        frame_counter += 1\n",
    "\n",
    "    video_capture.release()"
   ]
  },
  {
   "cell_type": "code",
   "execution_count": 4,
   "id": "11acb440",
   "metadata": {},
   "outputs": [],
   "source": [
    "save_path = \"VideoDir/\"\n",
    "output_folder = \"/\"\n",
    "\n",
    "os.makedirs(output_folder,exist_ok=True)\n",
    "os.makedirs(save_path,exist_ok=True)"
   ]
  },
  {
   "cell_type": "code",
   "execution_count": 5,
   "id": "8689306d",
   "metadata": {},
   "outputs": [],
   "source": [
    "with open('video_link.txt','r') as f:\n",
    "    video_links = f.readlines()"
   ]
  },
  {
   "cell_type": "code",
   "execution_count": 24,
   "id": "54eb7440",
   "metadata": {},
   "outputs": [
    {
     "data": {
      "text/plain": [
       "'https://www.youtube.com/shorts/v4nDuPdTDyQ'"
      ]
     },
     "execution_count": 24,
     "metadata": {},
     "output_type": "execute_result"
    }
   ],
   "source": [
    "\n",
    "video_url = \"YOUR_YOUTUBE_VIDEO_URL\"\n",
    "\n",
    "# saved youtube video in local system form youtube\n",
    "save_path = \"YOUR_SAVE_PATH\"\n",
    "\n",
    "# frame saved output dir\n",
    "output_folder = \"output_frames\"\n",
    "\n",
    "# download video from youtube\n",
    "video_filename = download_youtube_video(video_url, save_path)\n",
    "\n",
    "# load video from local system\n",
    "input_video_path = os.path.join(save_path, video_filename)\n",
    "\n",
    "# send for extract frame from video\n",
    "extract_frames(input_video_path, output_folder)\n",
    "print(\"Frames extracted successfully!\")"
   ]
  },
  {
   "cell_type": "code",
   "execution_count": null,
   "id": "82e84797",
   "metadata": {},
   "outputs": [],
   "source": []
  }
 ],
 "metadata": {
  "kernelspec": {
   "display_name": "Python 3 (ipykernel)",
   "language": "python",
   "name": "python3"
  },
  "language_info": {
   "codemirror_mode": {
    "name": "ipython",
    "version": 3
   },
   "file_extension": ".py",
   "mimetype": "text/x-python",
   "name": "python",
   "nbconvert_exporter": "python",
   "pygments_lexer": "ipython3",
   "version": "3.8.16"
  }
 },
 "nbformat": 4,
 "nbformat_minor": 5
}
