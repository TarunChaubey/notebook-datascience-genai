{
 "cells": [
  {
   "cell_type": "code",
   "execution_count": 7,
   "id": "a9ef0c57",
   "metadata": {},
   "outputs": [],
   "source": [
    "import cv2\n",
    "import os\n",
    "import sys"
   ]
  },
  {
   "cell_type": "code",
   "execution_count": null,
   "id": "4b0b96ba",
   "metadata": {},
   "outputs": [],
   "source": [
    "from ultralytics import RTDETR\n",
    "\n",
    "# Load a COCO-pretrained RT-DETR-l model\n",
    "model = RTDETR('rtdetr-l.pt')\n",
    "\n",
    "# Display model information (optional)\n",
    "model.info()"
   ]
  },
  {
   "cell_type": "raw",
   "id": "55a5982b",
   "metadata": {},
   "source": [
    "# Train the model on the COCO8 example dataset for 100 epochs\n",
    "results = model.train(data='coco8.yaml', epochs=100, imgsz=640)"
   ]
  },
  {
   "cell_type": "code",
   "execution_count": null,
   "id": "51e79d9f",
   "metadata": {},
   "outputs": [],
   "source": [
    "%%time\n",
    "# Run inference with the RT-DETR-l model on the 'bus.jpg' image\n",
    "results = model('../Notebook/people.JPG')"
   ]
  },
  {
   "cell_type": "code",
   "execution_count": null,
   "id": "4a856e7c",
   "metadata": {},
   "outputs": [],
   "source": [
    "conf = results[0].boxes.conf.numpy()\n",
    "cls = results[0].boxes.cls.numpy()\n",
    "bbox = results[0].boxes.xyxy.numpy()"
   ]
  },
  {
   "cell_type": "code",
   "execution_count": null,
   "id": "d227a085",
   "metadata": {},
   "outputs": [],
   "source": [
    "import matplotlib.pyplot as plt\n",
    "import cv2\n",
    "import numpy as np\n",
    "%matplotlib inline"
   ]
  },
  {
   "cell_type": "code",
   "execution_count": null,
   "id": "b91a214f",
   "metadata": {},
   "outputs": [],
   "source": [
    "image = cv2.imread('../Notebook/people.JPG')\n",
    "\n",
    "for ind in range(len(bbox)):\n",
    "    if conf[ind] > 0.80:\n",
    "        box = np.array(bbox[ind],np.int16)\n",
    "        image = cv2.rectangle(image,(box[0], box[1]), (box[2], box[3]), (255,0,0),3)\n",
    "plt.imshow(image)"
   ]
  },
  {
   "cell_type": "code",
   "execution_count": null,
   "id": "01c7acd9",
   "metadata": {},
   "outputs": [],
   "source": []
  },
  {
   "cell_type": "code",
   "execution_count": null,
   "id": "c5703b9a",
   "metadata": {},
   "outputs": [],
   "source": []
  },
  {
   "cell_type": "code",
   "execution_count": 5,
   "id": "95324340",
   "metadata": {},
   "outputs": [],
   "source": [
    "# %%writefile FremeLogWriter.py\n",
    "\n",
    "from datetime import datetime\n",
    "import numpy as np\n",
    "import os\n",
    "import csv\n",
    "\n",
    "frame_id = datetime.now().strftime('%Y%m%d%H%M%S%f')\n",
    "date_time = datetime.now().strftime('%Y-%m-%d %H:%M:%S:%f')\n",
    "type = np.random.choice(['EL','VL'])\n",
    "height, width, = np.random.randint(1080,4096,1)[0], np.random.randint(1080,4096,1)[0]\n",
    "bbox = np.random.randint(0,4096,4)\n",
    "\n",
    "\n",
    "def WriteFrameMetadataLogs(data, csv_filename=f\"{datetime.now().strftime('%Y%m%d%H%M%S%f')}.csv\"):\n",
    "    # Check if the CSV file exists\n",
    "    file_exists = os.path.isfile(csv_filename)\n",
    "\n",
    "    # Write header if the file is created for the first time\n",
    "    with open(csv_filename, 'a', newline='') as csvfile:\n",
    "        fieldnames = ['frame_id', 'date_time', 'type', 'height', 'width', 'x_min', 'y_min', 'x_max', 'y_max']\n",
    "        writer = csv.DictWriter(csvfile, fieldnames=fieldnames)\n",
    "        if not file_exists: writer.writeheader()\n",
    "        # Write the data to the CSV file\n",
    "        writer.writerow(data)\n",
    "\n",
    "# store data\n",
    "WriteFrameMetadataLogs({'frame_id':frame_id,'date_time':date_time, 'type':type,'height':height,\n",
    "                        'width':width,'x_min': bbox[0], 'y_min':  bbox[1], 'x_max': bbox[2], 'y_max': bbox[3]})"
   ]
  },
  {
   "cell_type": "code",
   "execution_count": 6,
   "id": "a16dcd94",
   "metadata": {},
   "outputs": [
    {
     "ename": "NameError",
     "evalue": "name 'WriteFrameLog' is not defined",
     "output_type": "error",
     "traceback": [
      "\u001b[1;31m---------------------------------------------------------------------------\u001b[0m",
      "\u001b[1;31mNameError\u001b[0m                                 Traceback (most recent call last)",
      "Cell \u001b[1;32mIn[6], line 20\u001b[0m\n\u001b[0;32m     17\u001b[0m     height, width, \u001b[38;5;241m=\u001b[39m np\u001b[38;5;241m.\u001b[39mrandom\u001b[38;5;241m.\u001b[39mrandint(\u001b[38;5;241m1080\u001b[39m,\u001b[38;5;241m4096\u001b[39m,\u001b[38;5;241m1\u001b[39m)[\u001b[38;5;241m0\u001b[39m], np\u001b[38;5;241m.\u001b[39mrandom\u001b[38;5;241m.\u001b[39mrandint(\u001b[38;5;241m1080\u001b[39m,\u001b[38;5;241m4096\u001b[39m,\u001b[38;5;241m1\u001b[39m)[\u001b[38;5;241m0\u001b[39m]\n\u001b[0;32m     18\u001b[0m     bbox \u001b[38;5;241m=\u001b[39m np\u001b[38;5;241m.\u001b[39mrandom\u001b[38;5;241m.\u001b[39mrandint(\u001b[38;5;241m0\u001b[39m,\u001b[38;5;241m4096\u001b[39m,\u001b[38;5;241m4\u001b[39m)\n\u001b[1;32m---> 20\u001b[0m     \u001b[43mWriteFrameLog\u001b[49m(frame_id, date_time, defect_type, height, width, bbox)\n\u001b[0;32m     22\u001b[0m \u001b[38;5;66;03m#     WriteFrameLog({'frame_id':frame_id,'date_time':date_time, 'defect_type':defect_type,\u001b[39;00m\n\u001b[0;32m     23\u001b[0m \u001b[38;5;66;03m#                    'height':height, 'width':width,'bbox':bbox})\u001b[39;00m\n\u001b[0;32m     24\u001b[0m \n\u001b[0;32m     25\u001b[0m     \u001b[38;5;66;03m# Display the frame\u001b[39;00m\n\u001b[0;32m     26\u001b[0m     cv2\u001b[38;5;241m.\u001b[39mimshow(\u001b[38;5;124m'\u001b[39m\u001b[38;5;124mFrame\u001b[39m\u001b[38;5;124m'\u001b[39m, frame)\n",
      "\u001b[1;31mNameError\u001b[0m: name 'WriteFrameLog' is not defined"
     ]
    }
   ],
   "source": [
    "# %%writefile frameExtract.py\n",
    "import cv2\n",
    "from datetime import datetime\n",
    "import numpy as np\n",
    "\n",
    "cap = cv2.VideoCapture(\"../street_cctv.mp4\")\n",
    "# cap = cv2.VideoCapture(0)\n",
    "\n",
    "while (True):\n",
    "    # Capture frame from webcam\n",
    "    ret, frame = cap.read()\n",
    "\n",
    "    # Get current date and time as frame_id\n",
    "    frame_id = datetime.now().strftime('%Y%m%d%H%M%S%f')\n",
    "    date_time = datetime.now().strftime('%Y-%m-%d %H:%M:%S:%f')\n",
    "    type = np.random.choice(['EL','VL'])\n",
    "    height, width, = np.random.randint(1080,4096,1)[0], np.random.randint(1080,4096,1)[0]\n",
    "    bbox = np.random.randint(0,4096,4)\n",
    "    \n",
    "    WriteFrameLog(frame_id, date_time, type, height, width, bbox)\n",
    "    \n",
    "#     WriteFrameLog({'frame_id':frame_id,'date_time':date_time, 'type':type,\n",
    "#                    'height':height, 'width':width,'bbox':bbox})\n",
    "\n",
    "    # Display the frame\n",
    "    cv2.imshow('Frame', frame)\n",
    "\n",
    "    # Break the loop if 'q' key is pressed\n",
    "    if cv2.waitKey(1) & 0xFF == ord('q'):\n",
    "        break\n",
    "\n",
    "# Release the webcam and close the database connection\n",
    "cap.release()\n",
    "cv2.destroyAllWindows()"
   ]
  },
  {
   "cell_type": "code",
   "execution_count": 3,
   "id": "56b236be",
   "metadata": {},
   "outputs": [
    {
     "name": "stdout",
     "output_type": "stream",
     "text": [
      "Overwriting youtube.py\n"
     ]
    }
   ],
   "source": [
    "%%writefile youtube.py\n",
    "\n",
    "# !pip install pytube\n",
    "\n",
    "from pytube import YouTube\n",
    "\n",
    "class YoutubeDownloader:\n",
    "    \n",
    "    def DownloadVideo(video_url, output_path=\".\"):\n",
    "        try:\n",
    "            # Create a YouTube object\n",
    "            yt = YouTube(video_url)\n",
    "\n",
    "            # Get the highest resolution stream\n",
    "            video_stream = yt.streams.get_highest_resolution()\n",
    "\n",
    "            # Print video details\n",
    "            print(\"Downloading:\", yt.title)\n",
    "            print(\"Resolution:\", video_stream.resolution)\n",
    "\n",
    "            # Download the video\n",
    "            video_stream.download(output_path)\n",
    "\n",
    "            print(\"Download complete!\")\n",
    "\n",
    "        except Exception as e:\n",
    "            print(\"Error:\", str(e))\n",
    "\n",
    "# Example usage\n",
    "downloader = YoutubeDownloader()\n",
    "video_url = \"https://www.youtube.com/watch?v=S0545X_aAnI&pp=ygUQY2N0diB2aWRlbyBpbmRpYQ%3D%3D\"\n",
    "output_path = \"./\"\n",
    "downloader.DownloadVideo(video_url, output_path)"
   ]
  },
  {
   "cell_type": "code",
   "execution_count": null,
   "id": "03bb9da8",
   "metadata": {},
   "outputs": [],
   "source": []
  },
  {
   "cell_type": "code",
   "execution_count": null,
   "id": "99a107c0",
   "metadata": {},
   "outputs": [],
   "source": []
  },
  {
   "cell_type": "code",
   "execution_count": null,
   "id": "203b9e19",
   "metadata": {},
   "outputs": [],
   "source": []
  }
 ],
 "metadata": {
  "kernelspec": {
   "display_name": "Python 3 (ipykernel)",
   "language": "python",
   "name": "python3"
  },
  "language_info": {
   "codemirror_mode": {
    "name": "ipython",
    "version": 3
   },
   "file_extension": ".py",
   "mimetype": "text/x-python",
   "name": "python",
   "nbconvert_exporter": "python",
   "pygments_lexer": "ipython3",
   "version": "3.8.18"
  }
 },
 "nbformat": 4,
 "nbformat_minor": 5
}
